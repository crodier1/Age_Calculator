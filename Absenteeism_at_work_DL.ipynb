{
  "nbformat": 4,
  "nbformat_minor": 0,
  "metadata": {
    "colab": {
      "provenance": [],
      "authorship_tag": "ABX9TyMqeaptdS9HC0haWxH0uT2a",
      "include_colab_link": true
    },
    "kernelspec": {
      "name": "python3",
      "display_name": "Python 3"
    },
    "language_info": {
      "name": "python"
    }
  },
  "cells": [
    {
      "cell_type": "markdown",
      "metadata": {
        "id": "view-in-github",
        "colab_type": "text"
      },
      "source": [
        "<a href=\"https://colab.research.google.com/github/crodier1/Age_Calculator/blob/master/Absenteeism_at_work_DL.ipynb\" target=\"_parent\"><img src=\"https://colab.research.google.com/assets/colab-badge.svg\" alt=\"Open In Colab\"/></a>"
      ]
    },
    {
      "cell_type": "code",
      "execution_count": null,
      "metadata": {
        "id": "8FHkb_2C0AGw"
      },
      "outputs": [],
      "source": [
        "import pandas as pd\n",
        "from sklearn.model_selection import train_test_split"
      ]
    },
    {
      "cell_type": "code",
      "source": [
        "dataset = pd.read_csv('Absenteeism_at_work.csv')\n",
        "\n",
        "dataset.columns = [c.strip() for c in dataset.columns]\n",
        "\n",
        "y = dataset['Absenteeism time in hours']\n",
        "\n",
        "x = dataset.drop(['ID', 'Absenteeism time in hours'], axis=1)"
      ],
      "metadata": {
        "id": "nU4sLTOo1asg"
      },
      "execution_count": null,
      "outputs": []
    },
    {
      "cell_type": "code",
      "source": [
        "def set_absentee_categories(hours):\n",
        "  if hours == 0 :\n",
        "    return 0\n",
        "  if hours > 0 and hours <= 8:\n",
        "    return 1\n",
        "  if hours > 8 and hours <= 16:\n",
        "    return 2\n",
        "  if hours > 16 and hours <= 24:\n",
        "    return 3\n",
        "  if hours > 24 and hours <= 32:\n",
        "    return 4\n",
        "  if hours > 32 and hours <= 40:\n",
        "    return 5\n",
        "  if hours > 40 and hours <= 48:\n",
        "    return 6\n",
        "  if hours > 48 and hours <= 56:\n",
        "    return 7\n",
        "  if hours > 56 and hours <= 64:\n",
        "    return 8\n",
        "  if hours > 64:\n",
        "    return 9\n",
        "\n",
        "y = y.apply(lambda h : set_absentee_categories(h))"
      ],
      "metadata": {
        "id": "GKTv_c3YsQ5E"
      },
      "execution_count": null,
      "outputs": []
    },
    {
      "cell_type": "code",
      "source": [
        "def get_dummies(colName):\n",
        "\n",
        "  dummies = pd.get_dummies(x[colName])\n",
        "\n",
        "  cols = dummies.columns\n",
        "\n",
        "  x[[f\"{colName}-{n}\" for n in cols]] = dummies[cols]\n",
        "\n",
        "  x.drop(colName, axis=1, inplace=True)"
      ],
      "metadata": {
        "id": "DIfzxfMm-WMd"
      },
      "execution_count": null,
      "outputs": []
    },
    {
      "cell_type": "code",
      "source": [
        "categories = ['Reason for absence', 'Month of absence', 'Day of the week', 'Seasons', 'Disciplinary failure', 'Education', 'Social drinker', 'Social smoker']\n",
        "\n",
        "for c in categories:\n",
        "  get_dummies(c)\n",
        "\n"
      ],
      "metadata": {
        "id": "cieN0yZ3-xzi"
      },
      "execution_count": null,
      "outputs": []
    },
    {
      "cell_type": "code",
      "source": [
        "x['Work load Average'] = x['Work load Average/day'].str.slice(0,3).astype(int)\n",
        "\n",
        "x['day'] = x['Work load Average/day'].str.slice(4).astype(int)\n",
        "\n",
        "x.drop('Work load Average/day', inplace=True, axis=1)"
      ],
      "metadata": {
        "id": "LTWaQHTM22jn"
      },
      "execution_count": null,
      "outputs": []
    },
    {
      "cell_type": "code",
      "source": [
        "all_variables = x\n",
        "all_variables['Absenteeism time in hours'] = y\n",
        "\n",
        "for c in x.columns:\n",
        "  print(all_variables[[c, 'Absenteeism time in hours']].corr())"
      ],
      "metadata": {
        "colab": {
          "base_uri": "https://localhost:8080/"
        },
        "id": "7RJ37iCRWXQv",
        "outputId": "6864c815-69c2-4c03-ec61-e02ed5c55d75"
      },
      "execution_count": null,
      "outputs": [
        {
          "output_type": "stream",
          "name": "stdout",
          "text": [
            "                           Transportation expense  Absenteeism time in hours\n",
            "Transportation expense                   1.000000                  -0.032691\n",
            "Absenteeism time in hours               -0.032691                   1.000000\n",
            "                                 Distance from Residence to Work  \\\n",
            "Distance from Residence to Work                         1.000000   \n",
            "Absenteeism time in hours                              -0.079993   \n",
            "\n",
            "                                 Absenteeism time in hours  \n",
            "Distance from Residence to Work                  -0.079993  \n",
            "Absenteeism time in hours                         1.000000  \n",
            "                           Service time  Absenteeism time in hours\n",
            "Service time                   1.000000                   0.030595\n",
            "Absenteeism time in hours      0.030595                   1.000000\n",
            "                                Age  Absenteeism time in hours\n",
            "Age                        1.000000                   0.042326\n",
            "Absenteeism time in hours  0.042326                   1.000000\n",
            "                           Hit target  Absenteeism time in hours\n",
            "Hit target                   1.000000                   0.037423\n",
            "Absenteeism time in hours    0.037423                   1.000000\n",
            "                                Son  Absenteeism time in hours\n",
            "Son                        1.000000                   0.069299\n",
            "Absenteeism time in hours  0.069299                   1.000000\n",
            "                                Pet  Absenteeism time in hours\n",
            "Pet                        1.000000                  -0.061719\n",
            "Absenteeism time in hours -0.061719                   1.000000\n",
            "                             Weight  Absenteeism time in hours\n",
            "Weight                     1.000000                  -0.002238\n",
            "Absenteeism time in hours -0.002238                   1.000000\n",
            "                             Height  Absenteeism time in hours\n",
            "Height                     1.000000                   0.147147\n",
            "Absenteeism time in hours  0.147147                   1.000000\n",
            "                           Body mass index  Absenteeism time in hours\n",
            "Body mass index                   1.000000                  -0.068619\n",
            "Absenteeism time in hours        -0.068619                   1.000000\n",
            "                           Reason for absence-0  Absenteeism time in hours\n",
            "Reason for absence-0                   1.000000                  -0.251225\n",
            "Absenteeism time in hours             -0.251225                   1.000000\n",
            "                           Reason for absence-1  Absenteeism time in hours\n",
            "Reason for absence-1                   1.000000                   0.034468\n",
            "Absenteeism time in hours              0.034468                   1.000000\n",
            "                           Reason for absence-2  Absenteeism time in hours\n",
            "Reason for absence-2                   1.000000                   0.054265\n",
            "Absenteeism time in hours              0.054265                   1.000000\n",
            "                           Reason for absence-3  Absenteeism time in hours\n",
            "Reason for absence-3                   1.000000                  -0.006716\n",
            "Absenteeism time in hours             -0.006716                   1.000000\n",
            "                           Reason for absence-4  Absenteeism time in hours\n",
            "Reason for absence-4                   1.000000                  -0.009505\n",
            "Absenteeism time in hours             -0.009505                   1.000000\n",
            "                           Reason for absence-5  Absenteeism time in hours\n",
            "Reason for absence-5                   1.000000                  -0.011649\n",
            "Absenteeism time in hours             -0.011649                   1.000000\n",
            "                           Reason for absence-6  Absenteeism time in hours\n",
            "Reason for absence-6                   1.000000                   0.067565\n",
            "Absenteeism time in hours              0.067565                   1.000000\n",
            "                           Reason for absence-7  Absenteeism time in hours\n",
            "Reason for absence-7                   1.000000                   0.037325\n",
            "Absenteeism time in hours              0.037325                   1.000000\n",
            "                           Reason for absence-8  Absenteeism time in hours\n",
            "Reason for absence-8                   1.000000                  -0.016507\n",
            "Absenteeism time in hours             -0.016507                   1.000000\n",
            "                           Reason for absence-9  Absenteeism time in hours\n",
            "Reason for absence-9                   1.000000                   0.169857\n",
            "Absenteeism time in hours              0.169857                   1.000000\n",
            "                           Reason for absence-10  Absenteeism time in hours\n",
            "Reason for absence-10                   1.000000                   0.040256\n",
            "Absenteeism time in hours               0.040256                   1.000000\n",
            "                           Reason for absence-11  Absenteeism time in hours\n",
            "Reason for absence-11                   1.000000                   0.050329\n",
            "Absenteeism time in hours               0.050329                   1.000000\n",
            "                           Reason for absence-12  Absenteeism time in hours\n",
            "Reason for absence-12                   1.000000                   0.121723\n",
            "Absenteeism time in hours               0.121723                   1.000000\n",
            "                           Reason for absence-13  Absenteeism time in hours\n",
            "Reason for absence-13                   1.000000                   0.183134\n",
            "Absenteeism time in hours               0.183134                   1.000000\n",
            "                           Reason for absence-14  Absenteeism time in hours\n",
            "Reason for absence-14                   1.000000                   0.027016\n",
            "Absenteeism time in hours               0.027016                   1.000000\n",
            "                           Reason for absence-15  Absenteeism time in hours\n",
            "Reason for absence-15                   1.000000                  -0.009505\n",
            "Absenteeism time in hours              -0.009505                   1.000000\n",
            "                           Reason for absence-16  Absenteeism time in hours\n",
            "Reason for absence-16                   1.000000                  -0.011649\n",
            "Absenteeism time in hours              -0.011649                   1.000000\n",
            "                           Reason for absence-17  Absenteeism time in hours\n",
            "Reason for absence-17                   1.000000                  -0.006716\n",
            "Absenteeism time in hours              -0.006716                   1.000000\n",
            "                           Reason for absence-18  Absenteeism time in hours\n",
            "Reason for absence-18                   1.000000                   0.022762\n",
            "Absenteeism time in hours               0.022762                   1.000000\n",
            "                           Reason for absence-19  Absenteeism time in hours\n",
            "Reason for absence-19                   1.000000                   0.213936\n",
            "Absenteeism time in hours               0.213936                   1.000000\n",
            "                           Reason for absence-21  Absenteeism time in hours\n",
            "Reason for absence-21                   1.000000                  -0.016507\n",
            "Absenteeism time in hours              -0.016507                   1.000000\n",
            "                           Reason for absence-22  Absenteeism time in hours\n",
            "Reason for absence-22                   1.000000                  -0.037403\n",
            "Absenteeism time in hours              -0.037403                   1.000000\n",
            "                           Reason for absence-23  Absenteeism time in hours\n",
            "Reason for absence-23                   1.000000                  -0.086087\n",
            "Absenteeism time in hours              -0.086087                   1.000000\n",
            "                           Reason for absence-24  Absenteeism time in hours\n",
            "Reason for absence-24                   1.000000                  -0.011649\n",
            "Absenteeism time in hours              -0.011649                   1.000000\n",
            "                           Reason for absence-25  Absenteeism time in hours\n",
            "Reason for absence-25                   1.000000                  -0.038177\n",
            "Absenteeism time in hours              -0.038177                   1.000000\n",
            "                           Reason for absence-26  Absenteeism time in hours\n",
            "Reason for absence-26                   1.000000                  -0.034018\n",
            "Absenteeism time in hours              -0.034018                   1.000000\n",
            "                           Reason for absence-27  Absenteeism time in hours\n",
            "Reason for absence-27                     1.0000                    -0.0624\n",
            "Absenteeism time in hours                -0.0624                     1.0000\n",
            "                           Reason for absence-28  Absenteeism time in hours\n",
            "Reason for absence-28                   1.000000                  -0.067727\n",
            "Absenteeism time in hours              -0.067727                   1.000000\n",
            "                           Month of absence-0  Absenteeism time in hours\n",
            "Month of absence-0                   1.000000                  -0.064531\n",
            "Absenteeism time in hours           -0.064531                   1.000000\n",
            "                           Month of absence-1  Absenteeism time in hours\n",
            "Month of absence-1                   1.000000                  -0.026835\n",
            "Absenteeism time in hours           -0.026835                   1.000000\n",
            "                           Month of absence-2  Absenteeism time in hours\n",
            "Month of absence-2                   1.000000                  -0.048602\n",
            "Absenteeism time in hours           -0.048602                   1.000000\n",
            "                           Month of absence-3  Absenteeism time in hours\n",
            "Month of absence-3                   1.000000                   0.037684\n",
            "Absenteeism time in hours            0.037684                   1.000000\n",
            "                           Month of absence-4  Absenteeism time in hours\n",
            "Month of absence-4                   1.000000                   0.044853\n",
            "Absenteeism time in hours            0.044853                   1.000000\n",
            "                           Month of absence-5  Absenteeism time in hours\n",
            "Month of absence-5                   1.000000                  -0.012343\n",
            "Absenteeism time in hours           -0.012343                   1.000000\n",
            "                           Month of absence-6  Absenteeism time in hours\n",
            "Month of absence-6                    1.00000                    0.01768\n",
            "Absenteeism time in hours             0.01768                    1.00000\n",
            "                           Month of absence-7  Absenteeism time in hours\n",
            "Month of absence-7                   1.000000                   0.063399\n",
            "Absenteeism time in hours            0.063399                   1.000000\n",
            "                           Month of absence-8  Absenteeism time in hours\n",
            "Month of absence-8                   1.000000                  -0.029692\n",
            "Absenteeism time in hours           -0.029692                   1.000000\n",
            "                           Month of absence-9  Absenteeism time in hours\n",
            "Month of absence-9                   1.000000                  -0.033336\n",
            "Absenteeism time in hours           -0.033336                   1.000000\n",
            "                           Month of absence-10  Absenteeism time in hours\n",
            "Month of absence-10                   1.000000                  -0.055675\n",
            "Absenteeism time in hours            -0.055675                   1.000000\n",
            "                           Month of absence-11  Absenteeism time in hours\n",
            "Month of absence-11                    1.00000                   -0.00352\n",
            "Absenteeism time in hours             -0.00352                    1.00000\n",
            "                           Month of absence-12  Absenteeism time in hours\n",
            "Month of absence-12                   1.000000                   0.063995\n",
            "Absenteeism time in hours             0.063995                   1.000000\n",
            "                           Day of the week-2  Absenteeism time in hours\n",
            "Day of the week-2                   1.000000                   0.091045\n",
            "Absenteeism time in hours           0.091045                   1.000000\n",
            "                           Day of the week-3  Absenteeism time in hours\n",
            "Day of the week-3                    1.00000                    0.02229\n",
            "Absenteeism time in hours            0.02229                    1.00000\n",
            "                           Day of the week-4  Absenteeism time in hours\n",
            "Day of the week-4                   1.000000                   0.004498\n",
            "Absenteeism time in hours           0.004498                   1.000000\n",
            "                           Day of the week-5  Absenteeism time in hours\n",
            "Day of the week-5                   1.000000                  -0.076333\n",
            "Absenteeism time in hours          -0.076333                   1.000000\n",
            "                           Day of the week-6  Absenteeism time in hours\n",
            "Day of the week-6                   1.000000                  -0.050133\n",
            "Absenteeism time in hours          -0.050133                   1.000000\n",
            "                           Seasons-1  Absenteeism time in hours\n",
            "Seasons-1                   1.000000                   0.001475\n",
            "Absenteeism time in hours   0.001475                   1.000000\n",
            "                           Seasons-2  Absenteeism time in hours\n",
            "Seasons-2                   1.000000                  -0.016078\n",
            "Absenteeism time in hours  -0.016078                   1.000000\n",
            "                           Seasons-3  Absenteeism time in hours\n",
            "Seasons-3                   1.000000                   0.043332\n",
            "Absenteeism time in hours   0.043332                   1.000000\n",
            "                           Seasons-4  Absenteeism time in hours\n",
            "Seasons-4                   1.000000                  -0.027848\n",
            "Absenteeism time in hours  -0.027848                   1.000000\n",
            "                           Disciplinary failure-0  Absenteeism time in hours\n",
            "Disciplinary failure-0                   1.000000                   0.241783\n",
            "Absenteeism time in hours                0.241783                   1.000000\n",
            "                           Disciplinary failure-1  Absenteeism time in hours\n",
            "Disciplinary failure-1                   1.000000                  -0.241783\n",
            "Absenteeism time in hours               -0.241783                   1.000000\n",
            "                           Education-1  Absenteeism time in hours\n",
            "Education-1                   1.000000                   0.036653\n",
            "Absenteeism time in hours     0.036653                   1.000000\n",
            "                           Education-2  Absenteeism time in hours\n",
            "Education-2                   1.000000                  -0.028449\n",
            "Absenteeism time in hours    -0.028449                   1.000000\n",
            "                           Education-3  Absenteeism time in hours\n",
            "Education-3                   1.000000                  -0.019592\n",
            "Absenteeism time in hours    -0.019592                   1.000000\n",
            "                           Education-4  Absenteeism time in hours\n",
            "Education-4                    1.00000                   -0.01346\n",
            "Absenteeism time in hours     -0.01346                    1.00000\n",
            "                           Social drinker-0  Absenteeism time in hours\n",
            "Social drinker-0                   1.000000                  -0.053102\n",
            "Absenteeism time in hours         -0.053102                   1.000000\n",
            "                           Social drinker-1  Absenteeism time in hours\n",
            "Social drinker-1                   1.000000                   0.053102\n",
            "Absenteeism time in hours          0.053102                   1.000000\n",
            "                           Social smoker-0  Absenteeism time in hours\n",
            "Social smoker-0                   1.000000                   0.029692\n",
            "Absenteeism time in hours         0.029692                   1.000000\n",
            "                           Social smoker-1  Absenteeism time in hours\n",
            "Social smoker-1                   1.000000                  -0.029692\n",
            "Absenteeism time in hours        -0.029692                   1.000000\n",
            "                           Work load Average  Absenteeism time in hours\n",
            "Work load Average                   1.000000                   0.033341\n",
            "Absenteeism time in hours           0.033341                   1.000000\n",
            "                                day  Absenteeism time in hours\n",
            "day                        1.000000                  -0.023481\n",
            "Absenteeism time in hours -0.023481                   1.000000\n",
            "                           Absenteeism time in hours  \\\n",
            "Absenteeism time in hours                        1.0   \n",
            "Absenteeism time in hours                        1.0   \n",
            "\n",
            "                           Absenteeism time in hours  \n",
            "Absenteeism time in hours                        1.0  \n",
            "Absenteeism time in hours                        1.0  \n"
          ]
        }
      ]
    },
    {
      "cell_type": "code",
      "source": [
        "from sklearn.model_selection import train_test_split\n",
        "X_train, X_test, y_train, y_test = train_test_split(x, y, test_size=0.33, random_state=42)"
      ],
      "metadata": {
        "id": "wQxm7NVt2eX8"
      },
      "execution_count": null,
      "outputs": []
    },
    {
      "cell_type": "code",
      "source": [
        "from sklearn.preprocessing import StandardScaler\n",
        "\n",
        "scaler = StandardScaler()\n",
        "\n",
        "X_train_scaled = scaler.fit_transform(X_train) "
      ],
      "metadata": {
        "id": "TYMzXaTt2sr9"
      },
      "execution_count": null,
      "outputs": []
    },
    {
      "cell_type": "code",
      "source": [
        "from tensorflow.keras.models import Sequential\n",
        "from tensorflow.keras import layers\n",
        "from tensorflow.keras.layers import Dense\n",
        "import tensorflow as tf"
      ],
      "metadata": {
        "id": "dsCIwbPDuD6x"
      },
      "execution_count": null,
      "outputs": []
    },
    {
      "cell_type": "code",
      "source": [
        "model = Sequential()\n",
        "\n",
        "model.add(Dense(X_train_scaled.shape[1], activation='relu'))\n",
        "\n",
        "model.add(Dense(3000, activation='relu'))\n",
        "model.add(Dense(2000, activation='relu'))\n",
        "model.add(tf.keras.layers.Dropout(.4))\n",
        "model.add(Dense(10, activation='sigmoid')) "
      ],
      "metadata": {
        "id": "1pV1z26uuWz-"
      },
      "execution_count": null,
      "outputs": []
    },
    {
      "cell_type": "code",
      "source": [
        "from tensorflow.keras.optimizers import Adam\n",
        "opt = Adam(learning_rate=0.01)\n",
        "\n",
        "model.compile(loss='sparse_categorical_crossentropy', metrics=['accuracy'], optimizer='SGD')\n",
        "\n",
        "model.fit(X_train_scaled, y_train, epochs=10, batch_size=25, verbose=1, validation_data=(X_test, y_test))"
      ],
      "metadata": {
        "colab": {
          "base_uri": "https://localhost:8080/"
        },
        "id": "WvCs9i0Eudsq",
        "outputId": "baa46302-ad0d-40f1-d019-f21cf5402f56"
      },
      "execution_count": null,
      "outputs": [
        {
          "output_type": "stream",
          "name": "stdout",
          "text": [
            "Epoch 1/10\n",
            "20/20 [==============================] - 3s 88ms/step - loss: 1.4512 - accuracy: 0.7697 - val_loss: 31.3351 - val_accuracy: 0.8694\n",
            "Epoch 2/10\n",
            "20/20 [==============================] - 2s 75ms/step - loss: 0.8498 - accuracy: 0.8485 - val_loss: 38.5054 - val_accuracy: 0.8694\n",
            "Epoch 3/10\n",
            "20/20 [==============================] - 1s 74ms/step - loss: 0.7538 - accuracy: 0.8485 - val_loss: 40.3375 - val_accuracy: 0.8694\n",
            "Epoch 4/10\n",
            "20/20 [==============================] - 2s 92ms/step - loss: 0.6824 - accuracy: 0.8485 - val_loss: 41.1430 - val_accuracy: 0.8694\n",
            "Epoch 5/10\n",
            "20/20 [==============================] - 2s 107ms/step - loss: 0.6377 - accuracy: 0.8485 - val_loss: 41.0142 - val_accuracy: 0.8694\n",
            "Epoch 6/10\n",
            "20/20 [==============================] - 2s 86ms/step - loss: 0.5899 - accuracy: 0.8505 - val_loss: 41.4309 - val_accuracy: 0.8694\n",
            "Epoch 7/10\n",
            "20/20 [==============================] - 2s 85ms/step - loss: 0.5560 - accuracy: 0.8525 - val_loss: 40.8446 - val_accuracy: 0.8694\n",
            "Epoch 8/10\n",
            "20/20 [==============================] - 1s 70ms/step - loss: 0.5179 - accuracy: 0.8788 - val_loss: 41.0994 - val_accuracy: 0.8694\n",
            "Epoch 9/10\n",
            "20/20 [==============================] - 1s 75ms/step - loss: 0.4886 - accuracy: 0.8889 - val_loss: 41.8471 - val_accuracy: 0.8694\n",
            "Epoch 10/10\n",
            "20/20 [==============================] - 2s 80ms/step - loss: 0.4565 - accuracy: 0.8970 - val_loss: 43.1092 - val_accuracy: 0.8694\n"
          ]
        },
        {
          "output_type": "execute_result",
          "data": {
            "text/plain": [
              "<keras.callbacks.History at 0x7f986657fd60>"
            ]
          },
          "metadata": {},
          "execution_count": 19
        }
      ]
    }
  ]
}
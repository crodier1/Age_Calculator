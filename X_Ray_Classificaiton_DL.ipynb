{
  "cells": [
    {
      "cell_type": "markdown",
      "metadata": {
        "id": "view-in-github",
        "colab_type": "text"
      },
      "source": [
        "<a href=\"https://colab.research.google.com/github/crodier1/Age_Calculator/blob/master/X_Ray_Classificaiton_DL.ipynb\" target=\"_parent\"><img src=\"https://colab.research.google.com/assets/colab-badge.svg\" alt=\"Open In Colab\"/></a>"
      ]
    },
    {
      "cell_type": "code",
      "execution_count": null,
      "metadata": {
        "id": "f8EC-hHaHKuF"
      },
      "outputs": [],
      "source": [
        "import tensorflow as tf\n",
        "from tensorflow import keras\n",
        "from tensorflow.keras.models import Sequential\n",
        "from tensorflow.keras.preprocessing.image import ImageDataGenerator\n",
        "\n",
        "from sklearn.metrics import classification_report\n",
        "from sklearn.metrics import confusion_matrix\n",
        "\n",
        "from tensorflow.keras.callbacks import EarlyStopping\n",
        "from tensorflow.keras import layers\n",
        "from tensorflow.keras.layers import Dense\n",
        "\n",
        "import matplotlib.pyplot as plt\n",
        "import numpy"
      ]
    },
    {
      "cell_type": "code",
      "execution_count": null,
      "metadata": {
        "id": "R1x9arz9HKuH"
      },
      "outputs": [],
      "source": [
        "BATCH_SIZE = 32\n",
        "\n",
        "training_data_generator = ImageDataGenerator(\n",
        "        rescale=1./255\n",
        "#         ,zoom_range=0.2,\n",
        "#         rotation_range=15,\n",
        "#         width_shift_range=0.05,\n",
        "#         height_shift_range=0.05\n",
        ")\n",
        "\n",
        "training_iterator = training_data_generator.flow_from_directory('Covid19-dataset/train',class_mode='categorical',\n",
        "                                                                color_mode='grayscale',batch_size=BATCH_SIZE)\n",
        "\n"
      ]
    },
    {
      "cell_type": "code",
      "execution_count": null,
      "metadata": {
        "id": "-2BEZmU_HKuK",
        "outputId": "b79054e8-099f-4927-bbeb-7a0babd8efdb"
      },
      "outputs": [
        {
          "name": "stdout",
          "output_type": "stream",
          "text": [
            "Found 66 images belonging to 3 classes.\n"
          ]
        }
      ],
      "source": [
        "validation_data_generator = ImageDataGenerator(rescale=1./255)\n",
        "\n",
        "validation_iterator = validation_data_generator.flow_from_directory('Covid19-dataset/test',class_mode='categorical',\n",
        "                                                                    color_mode='grayscale',batch_size=BATCH_SIZE)"
      ]
    },
    {
      "cell_type": "code",
      "execution_count": null,
      "metadata": {
        "id": "rtYSoUxGHKuL"
      },
      "outputs": [],
      "source": [
        "from tensorflow.keras import regularizers\n",
        "\n",
        "model = tf.keras.Sequential()\n",
        "model.add(tf.keras.Input(shape=(256, 256, 1)))\n",
        "model.add(tf.keras.layers.Conv2D(2, 5, strides=3, activation=\"relu\")) \n",
        "model.add(tf.keras.layers.MaxPooling2D(pool_size=(5, 5), strides=(5,5)))\n",
        "# model.add(tf.keras.layers.Conv2D(4, 3, strides=1, activation=\"relu\")) \n",
        "# model.add(tf.keras.layers.MaxPooling2D(pool_size=(2,2), strides=(2,2)))\n",
        "model.add(tf.keras.layers.Flatten())\n",
        "model.add(Dense(int(256 * 2/3), activation='relu'))\n",
        "# model.add(tf.keras.layers.Dropout(.4))\n",
        "model.add(tf.keras.layers.Dense(3,activation=\"softmax\"))"
      ]
    },
    {
      "cell_type": "code",
      "execution_count": null,
      "metadata": {
        "id": "4hbRdyqzHKuL"
      },
      "outputs": [],
      "source": [
        "model.compile(\n",
        "   optimizer=tf.keras.optimizers.Adam(learning_rate=0.005),\n",
        "   loss=tf.keras.losses.CategoricalCrossentropy(),\n",
        "   metrics=['accuracy']\n",
        ")\n",
        "\n"
      ]
    },
    {
      "cell_type": "code",
      "execution_count": null,
      "metadata": {
        "id": "Fzmdx1EyHKuM",
        "outputId": "76dc5895-3bcc-4058-8758-837cd7fc8f0f"
      },
      "outputs": [
        {
          "name": "stdout",
          "output_type": "stream",
          "text": [
            "Epoch 1/20\n",
            "8/8 [==============================] - 2s 215ms/step - loss: 1.0697 - accuracy: 0.4422 - val_loss: 1.0133 - val_accuracy: 0.5455\n",
            "Epoch 2/20\n",
            "8/8 [==============================] - 1s 172ms/step - loss: 0.8026 - accuracy: 0.7530 - val_loss: 0.7444 - val_accuracy: 0.6818\n",
            "Epoch 3/20\n",
            "8/8 [==============================] - 1s 171ms/step - loss: 0.4547 - accuracy: 0.8645 - val_loss: 0.8742 - val_accuracy: 0.6667\n",
            "Epoch 4/20\n",
            "8/8 [==============================] - 1s 172ms/step - loss: 0.3313 - accuracy: 0.8327 - val_loss: 0.4544 - val_accuracy: 0.8030\n",
            "Epoch 5/20\n",
            "8/8 [==============================] - 2s 189ms/step - loss: 0.2430 - accuracy: 0.8964 - val_loss: 0.4089 - val_accuracy: 0.7576\n",
            "Epoch 6/20\n",
            "8/8 [==============================] - 1s 172ms/step - loss: 0.1758 - accuracy: 0.9442 - val_loss: 0.3637 - val_accuracy: 0.7727\n",
            "Epoch 7/20\n",
            "8/8 [==============================] - 1s 181ms/step - loss: 0.1334 - accuracy: 0.9482 - val_loss: 0.3014 - val_accuracy: 0.8333\n",
            "Epoch 8/20\n",
            "8/8 [==============================] - 2s 198ms/step - loss: 0.1073 - accuracy: 0.9522 - val_loss: 0.2708 - val_accuracy: 0.8485\n",
            "Epoch 9/20\n",
            "8/8 [==============================] - 1s 185ms/step - loss: 0.0740 - accuracy: 0.9801 - val_loss: 0.2499 - val_accuracy: 0.9091\n",
            "Epoch 10/20\n",
            "8/8 [==============================] - 1s 174ms/step - loss: 0.0555 - accuracy: 0.9920 - val_loss: 0.2963 - val_accuracy: 0.8939\n",
            "Epoch 11/20\n",
            "8/8 [==============================] - 1s 176ms/step - loss: 0.0594 - accuracy: 0.9880 - val_loss: 0.2009 - val_accuracy: 0.9091\n",
            "Epoch 12/20\n",
            "8/8 [==============================] - 1s 173ms/step - loss: 0.0353 - accuracy: 1.0000 - val_loss: 0.2114 - val_accuracy: 0.8939\n",
            "Epoch 13/20\n",
            "8/8 [==============================] - 1s 175ms/step - loss: 0.0238 - accuracy: 0.9960 - val_loss: 0.2174 - val_accuracy: 0.9242\n",
            "Epoch 14/20\n",
            "8/8 [==============================] - 1s 180ms/step - loss: 0.0180 - accuracy: 1.0000 - val_loss: 0.2246 - val_accuracy: 0.8788\n",
            "Epoch 15/20\n",
            "8/8 [==============================] - 2s 208ms/step - loss: 0.0173 - accuracy: 1.0000 - val_loss: 0.2937 - val_accuracy: 0.8939\n",
            "Epoch 16/20\n",
            "8/8 [==============================] - 1s 178ms/step - loss: 0.0111 - accuracy: 1.0000 - val_loss: 0.2101 - val_accuracy: 0.8636\n",
            "Epoch 17/20\n",
            "8/8 [==============================] - 1s 174ms/step - loss: 0.0092 - accuracy: 1.0000 - val_loss: 0.2946 - val_accuracy: 0.9091\n",
            "Epoch 18/20\n",
            "8/8 [==============================] - 2s 228ms/step - loss: 0.0073 - accuracy: 1.0000 - val_loss: 0.2049 - val_accuracy: 0.8939\n",
            "Epoch 19/20\n",
            "8/8 [==============================] - 1s 187ms/step - loss: 0.0058 - accuracy: 1.0000 - val_loss: 0.2281 - val_accuracy: 0.9091\n",
            "Epoch 20/20\n",
            "8/8 [==============================] - 2s 201ms/step - loss: 0.0046 - accuracy: 1.0000 - val_loss: 0.2413 - val_accuracy: 0.9091\n"
          ]
        }
      ],
      "source": [
        "steps = training_iterator.samples/BATCH_SIZE\n",
        "\n",
        "\n",
        "history = model.fit(\n",
        "       training_iterator,\n",
        "#        steps_per_epoch=steps,\n",
        "       epochs=20,\n",
        "       validation_data=validation_iterator \n",
        "#        ,validation_steps=steps\n",
        ")\n"
      ]
    },
    {
      "cell_type": "code",
      "execution_count": null,
      "metadata": {
        "id": "auDbomrWHKuM",
        "outputId": "0e5dcf14-bd41-4b5b-90fa-ba6c3318cfc3"
      },
      "outputs": [
        {
          "data": {
            "image/png": "[encoded data removed]",
            "text/plain": [
              "<Figure size 432x288 with 1 Axes>"
            ]
          },
          "metadata": {
            "needs_background": "light"
          },
          "output_type": "display_data"
        }
      ],
      "source": [
        "plt.plot(history.history['accuracy'], label='Training Accuracy')\n",
        "plt.plot(history.history['val_accuracy'], label='Validation Accuracy')\n",
        "plt.legend()\n",
        "plt.show()\n"
      ]
    },
    {
      "cell_type": "code",
      "execution_count": null,
      "metadata": {
        "id": "6TbZrW49HKuN"
      },
      "outputs": [],
      "source": []
    }
  ],
  "metadata": {
    "kernelspec": {
      "display_name": "Python 3",
      "language": "python",
      "name": "python3"
    },
    "language_info": {
      "codemirror_mode": {
        "name": "ipython",
        "version": 3
      },
      "file_extension": ".py",
      "mimetype": "text/x-python",
      "name": "python",
      "nbconvert_exporter": "python",
      "pygments_lexer": "ipython3",
      "version": "3.7.4"
    },
    "colab": {
      "provenance": [],
      "include_colab_link": true
    }
  },
  "nbformat": 4,
  "nbformat_minor": 0
}
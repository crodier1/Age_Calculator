{
  "nbformat": 4,
  "nbformat_minor": 0,
  "metadata": {
    "colab": {
      "provenance": [],
      "authorship_tag": "ABX9TyORI2IfwdWJs4sAUbNgiXw1",
      "include_colab_link": true
    },
    "kernelspec": {
      "name": "python3",
      "display_name": "Python 3"
    },
    "language_info": {
      "name": "python"
    }
  },
  "cells": [
    {
      "cell_type": "markdown",
      "metadata": {
        "id": "view-in-github",
        "colab_type": "text"
      },
      "source": [
        "<a href=\"https://colab.research.google.com/github/crodier1/Age_Calculator/blob/master/Dow_Jones_ML.ipynb\" target=\"_parent\"><img src=\"https://colab.research.google.com/assets/colab-badge.svg\" alt=\"Open In Colab\"/></a>"
      ]
    },
    {
      "cell_type": "code",
      "execution_count": null,
      "metadata": {
        "id": "ZQl02VSo1yH1"
      },
      "outputs": [],
      "source": [
        "import pandas as pd\n",
        "import numpy as np\n",
        "from sklearn.model_selection import train_test_split"
      ]
    },
    {
      "cell_type": "code",
      "source": [
        "dataset = pd.read_csv('dow_jones.csv')\n",
        "\n",
        "dataset.drop('stock', inplace=True, axis=1)"
      ],
      "metadata": {
        "id": "RFfU6nai7gj1"
      },
      "execution_count": null,
      "outputs": []
    },
    {
      "cell_type": "code",
      "source": [
        "dates = pd.to_datetime(dataset['date']) \n",
        "\n",
        "dataset['weekday'] = pd.DatetimeIndex(dates).weekday\n",
        "dataset['day'] = pd.DatetimeIndex(dates).day\n",
        "dataset['month'] = pd.DatetimeIndex(dates).month\n",
        "dataset['year'] = pd.DatetimeIndex(dates).year\n",
        "\n",
        "dataset.drop('date', inplace=True, axis=1)\n"
      ],
      "metadata": {
        "id": "8wNNYocw9oPm"
      },
      "execution_count": null,
      "outputs": []
    },
    {
      "cell_type": "code",
      "source": [
        "def remove_dollar_symbol(amount):\n",
        "  if amount == None:\n",
        "    return\n",
        "  return amount.replace('$', '')"
      ],
      "metadata": {
        "id": "ljiKW6QdBcmd"
      },
      "execution_count": null,
      "outputs": []
    },
    {
      "cell_type": "code",
      "source": [
        "has_dollar_symbols = ['open', 'high', 'low', 'close', 'next_weeks_open', 'next_weeks_close']\n",
        "\n",
        "for i in has_dollar_symbols:\n",
        "  dataset[i] = dataset[i].apply(lambda num: remove_dollar_symbol(num))\n",
        "  dataset[i] = dataset[i].astype(float)\n",
        "  dataset[i] = dataset[i].replace('NaN', np.nan)\n",
        "  dataset[i] = dataset[i].fillna(dataset[i].mean())"
      ],
      "metadata": {
        "id": "EiBCtKZICHCV"
      },
      "execution_count": null,
      "outputs": []
    },
    {
      "cell_type": "code",
      "source": [
        "for i in dataset.columns:   \n",
        "  if dataset[i].isnull().sum() > 0:     \n",
        "    dataset[i] = dataset[i].astype(float)    \n",
        "    dataset[i] = dataset[i].fillna(dataset[i].mean())"
      ],
      "metadata": {
        "id": "MIz-0-4DD7lY"
      },
      "execution_count": null,
      "outputs": []
    },
    {
      "cell_type": "code",
      "source": [
        "def get_dummies(colName):\n",
        "\n",
        "  dummies = pd.get_dummies(dataset[colName])\n",
        "\n",
        "  cols = dummies.columns\n",
        "\n",
        "  dataset[[f\"{colName}-{n}\" for n in cols]] = dummies[cols]\n",
        "\n",
        "  dataset.drop(colName, axis=1, inplace=True)"
      ],
      "metadata": {
        "id": "FdeE_KbrERck"
      },
      "execution_count": null,
      "outputs": []
    },
    {
      "cell_type": "code",
      "source": [
        "for c in ['quarter', 'weekday', 'day', 'month', 'year']:\n",
        "  get_dummies(c)\n"
      ],
      "metadata": {
        "id": "NOxAeIeqHNo3"
      },
      "execution_count": null,
      "outputs": []
    },
    {
      "cell_type": "code",
      "source": [
        "y = dataset.percent_return_next_dividend.astype(int)\n",
        "\n",
        "x = dataset.drop(['percent_return_next_dividend', 'year-2011'], axis=1)"
      ],
      "metadata": {
        "id": "bS2rnKXfNHmr"
      },
      "execution_count": null,
      "outputs": []
    },
    {
      "cell_type": "code",
      "source": [
        "from sklearn.model_selection import train_test_split\n",
        "X_train, X_test, y_train, y_test = train_test_split(x, y, test_size=0.33, random_state=42)"
      ],
      "metadata": {
        "id": "QQpao1hjOeJQ"
      },
      "execution_count": null,
      "outputs": []
    },
    {
      "cell_type": "code",
      "source": [
        "from sklearn.preprocessing import StandardScaler\n",
        "\n",
        "scaler = StandardScaler()\n",
        "\n",
        "X_train_scaled = scaler.fit_transform(X_train) "
      ],
      "metadata": {
        "id": "ipa5dAkHOfNs"
      },
      "execution_count": null,
      "outputs": []
    },
    {
      "cell_type": "code",
      "source": [
        "from sklearn.linear_model import PassiveAggressiveClassifier\n",
        "clf = PassiveAggressiveClassifier(max_iter=1000, random_state=0,tol=1e-3)\n",
        "clf.fit(X_train_scaled, y_train)\n",
        "clf.score(X_test, y_test)"
      ],
      "metadata": {
        "colab": {
          "base_uri": "https://localhost:8080/"
        },
        "id": "rbuRe_iLOiTG",
        "outputId": "3e90ddd4-1b81-44b8-e943-35206e6f23a5"
      },
      "execution_count": null,
      "outputs": [
        {
          "output_type": "stream",
          "name": "stderr",
          "text": [
            "/usr/local/lib/python3.8/dist-packages/sklearn/base.py:443: UserWarning: X has feature names, but PassiveAggressiveClassifier was fitted without feature names\n",
            "  warnings.warn(\n"
          ]
        },
        {
          "output_type": "execute_result",
          "data": {
            "text/plain": [
              "0.8669354838709677"
            ]
          },
          "metadata": {},
          "execution_count": 339
        }
      ]
    },
    {
      "cell_type": "code",
      "source": [
        "from sklearn.linear_model import Perceptron\n",
        "clf = Perceptron(tol=1e-3, random_state=0)\n",
        "clf.fit(X_train_scaled, y_train)\n",
        "clf.score(X_test, y_test)"
      ],
      "metadata": {
        "colab": {
          "base_uri": "https://localhost:8080/"
        },
        "id": "dnO8I-kXRRRa",
        "outputId": "342a8d4a-61eb-4ef4-cb7f-006c6cacafdf"
      },
      "execution_count": null,
      "outputs": [
        {
          "output_type": "stream",
          "name": "stderr",
          "text": [
            "/usr/local/lib/python3.8/dist-packages/sklearn/base.py:443: UserWarning: X has feature names, but Perceptron was fitted without feature names\n",
            "  warnings.warn(\n"
          ]
        },
        {
          "output_type": "execute_result",
          "data": {
            "text/plain": [
              "0.8669354838709677"
            ]
          },
          "metadata": {},
          "execution_count": 340
        }
      ]
    },
    {
      "cell_type": "code",
      "source": [
        "from sklearn.linear_model import RidgeClassifier\n",
        "clf = RidgeClassifier().fit(X_train_scaled, y_train)\n",
        "clf.score(X_test, y_test)"
      ],
      "metadata": {
        "colab": {
          "base_uri": "https://localhost:8080/"
        },
        "id": "YjIRkfnQRhPL",
        "outputId": "3e3aa4aa-b6e8-4c24-d16c-e822b4e18f9f"
      },
      "execution_count": null,
      "outputs": [
        {
          "output_type": "stream",
          "name": "stderr",
          "text": [
            "/usr/local/lib/python3.8/dist-packages/sklearn/base.py:443: UserWarning: X has feature names, but RidgeClassifier was fitted without feature names\n",
            "  warnings.warn(\n"
          ]
        },
        {
          "output_type": "execute_result",
          "data": {
            "text/plain": [
              "0.8669354838709677"
            ]
          },
          "metadata": {},
          "execution_count": 341
        }
      ]
    },
    {
      "cell_type": "code",
      "source": [
        "from sklearn.linear_model import RidgeClassifierCV\n",
        "clf = RidgeClassifierCV(alphas=[1e-3, 1e-2, 1e-1, 1]).fit(X_train_scaled, y_train)\n",
        "clf.score(X_test, y_test)"
      ],
      "metadata": {
        "colab": {
          "base_uri": "https://localhost:8080/"
        },
        "id": "SP7gZ2d8R4Nv",
        "outputId": "4f052358-680b-4bad-857c-34eaea20e693"
      },
      "execution_count": null,
      "outputs": [
        {
          "output_type": "stream",
          "name": "stderr",
          "text": [
            "/usr/local/lib/python3.8/dist-packages/sklearn/base.py:443: UserWarning: X has feature names, but RidgeClassifierCV was fitted without feature names\n",
            "  warnings.warn(\n"
          ]
        },
        {
          "output_type": "execute_result",
          "data": {
            "text/plain": [
              "0.8669354838709677"
            ]
          },
          "metadata": {},
          "execution_count": 342
        }
      ]
    }
  ]
}